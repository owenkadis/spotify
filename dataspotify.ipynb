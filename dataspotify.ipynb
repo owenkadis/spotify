{
 "cells": [
  {
   "cell_type": "code",
   "execution_count": null,
   "metadata": {},
   "outputs": [],
   "source": [
    "import requests\n",
    "import base64\n",
    "import json\n",
    "\n",
    "# Replace these with your actual credentials\n",
    "CLIENT_ID = '092abfb5ffb543429d75e1ee7ac8561b'\n",
    "CLIENT_SECRET = '5349afbff5a649b1adc72a210008538d'\n",
    "REDIRECT_URI = 'http://localhost:8888/callback'\n",
    "AUTH_CODE = 'AQAhUdI_8ztPeepdV1v22L8yF5JkITEFz_NeKaLH74Q5BXhpiWpOYylSb11V3U5NwPfxxsPnb6H7bSRmMa4bWJUj4eJ7G7v0Dur5_Lju31aTaG8qYsPXDLWxSKyuf_BdxRUkVtsKfdLioCZ765nFdsvxGdCyrMPc2NjGMJSnLnU3JcLOYhS8a_VP7Vc9iglcbmVTl0I'\n",
    "\n",
    "auth_string = f\"{CLIENT_ID}:{CLIENT_SECRET}\"\n",
    "auth_bytes = auth_string.encode('ascii')\n",
    "auth_base64 = base64.b64encode(auth_bytes).decode('ascii')\n",
    "\n",
    "headers = {\n",
    "    'Authorization': f'Basic {auth_base64}',\n",
    "    'Content-Type': 'application/x-www-form-urlencoded'\n",
    "}\n",
    "\n",
    "data = {\n",
    "    'grant_type': 'authorization_code',\n",
    "    'code': AUTH_CODE,\n",
    "    'redirect_uri': REDIRECT_URI\n",
    "}\n",
    "\n",
    "response = requests.post('https://accounts.spotify.com/api/token', headers=headers, data=data)\n",
    "response_data = response.json()\n",
    "\n",
    "access_token = response_data['access_token']\n",
    "refresh_token = response_data['refresh_token']\n",
    "\n",
    "print(f\"Access Token: {access_token}\")\n",
    "print(f\"Refresh Token: {refresh_token}\")\n",
    "\n",
    "headers = {\n",
    "    'Authorization': f'Bearer {access_token}'\n",
    "}\n"
   ]
  },
  {
   "cell_type": "code",
   "execution_count": null,
   "metadata": {},
   "outputs": [],
   "source": [
    "\n",
    "response = requests.get('https://api.spotify.com/v1/me/tracks', headers=headers)\n",
    "tracks = response.json()\n",
    "\n",
    "for idx, item in enumerate(tracks['items']):\n",
    "    track = item['track']\n",
    "    print(f\"{idx + 1}. {track['artists'][0]['name']} - {track['name']}\")\n"
   ]
  },
  {
   "cell_type": "code",
   "execution_count": null,
   "metadata": {},
   "outputs": [],
   "source": []
  }
 ],
 "metadata": {
  "language_info": {
   "name": "python"
  }
 },
 "nbformat": 4,
 "nbformat_minor": 2
}
